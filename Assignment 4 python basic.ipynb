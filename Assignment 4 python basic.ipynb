{
 "cells": [
  {
   "cell_type": "markdown",
   "id": "75e2b6be",
   "metadata": {},
   "source": [
    "#Answer1"
   ]
  },
  {
   "cell_type": "code",
   "execution_count": null,
   "id": "eafdf6a7",
   "metadata": {},
   "outputs": [],
   "source": [
    "[] is an empty list."
   ]
  },
  {
   "cell_type": "markdown",
   "id": "5c7ac7d4",
   "metadata": {},
   "source": [
    "#Answer2"
   ]
  },
  {
   "cell_type": "code",
   "execution_count": 2,
   "id": "2f155ea6",
   "metadata": {},
   "outputs": [
    {
     "data": {
      "text/plain": [
       "[2, 4, 'hello', 8, 10]"
      ]
     },
     "execution_count": 2,
     "metadata": {},
     "output_type": "execute_result"
    }
   ],
   "source": [
    "spam=[2,4,6,8,10]\n",
    "spam[2]=\"hello\"\n",
    "spam"
   ]
  },
  {
   "cell_type": "code",
   "execution_count": 3,
   "id": "1db128f3",
   "metadata": {},
   "outputs": [],
   "source": [
    "spam=[\"a\",\"b\",\"c\",\"d\"]"
   ]
  },
  {
   "cell_type": "markdown",
   "id": "74ae4243",
   "metadata": {},
   "source": [
    "#Answer3"
   ]
  },
  {
   "cell_type": "code",
   "execution_count": 4,
   "id": "e01d52bf",
   "metadata": {},
   "outputs": [
    {
     "data": {
      "text/plain": [
       "'d'"
      ]
     },
     "execution_count": 4,
     "metadata": {},
     "output_type": "execute_result"
    }
   ],
   "source": [
    "spam[int(int(\"3\"*2)/11)]"
   ]
  },
  {
   "cell_type": "markdown",
   "id": "2a9e362c",
   "metadata": {},
   "source": [
    "#Answer4"
   ]
  },
  {
   "cell_type": "code",
   "execution_count": 5,
   "id": "663f0ff0",
   "metadata": {},
   "outputs": [
    {
     "data": {
      "text/plain": [
       "'d'"
      ]
     },
     "execution_count": 5,
     "metadata": {},
     "output_type": "execute_result"
    }
   ],
   "source": [
    "spam[-1]"
   ]
  },
  {
   "cell_type": "markdown",
   "id": "121783f4",
   "metadata": {},
   "source": [
    "#Answer5"
   ]
  },
  {
   "cell_type": "code",
   "execution_count": 6,
   "id": "426ea4c4",
   "metadata": {},
   "outputs": [
    {
     "data": {
      "text/plain": [
       "'c'"
      ]
     },
     "execution_count": 6,
     "metadata": {},
     "output_type": "execute_result"
    }
   ],
   "source": [
    "spam[-2]"
   ]
  },
  {
   "cell_type": "code",
   "execution_count": 7,
   "id": "072bcf8f",
   "metadata": {},
   "outputs": [],
   "source": [
    "bacon=[3.14,\"cat\",11,\"cat\",True]"
   ]
  },
  {
   "cell_type": "markdown",
   "id": "8b91f78d",
   "metadata": {},
   "source": [
    "#Answer6"
   ]
  },
  {
   "cell_type": "code",
   "execution_count": 8,
   "id": "858fee3f",
   "metadata": {},
   "outputs": [
    {
     "data": {
      "text/plain": [
       "1"
      ]
     },
     "execution_count": 8,
     "metadata": {},
     "output_type": "execute_result"
    }
   ],
   "source": [
    "bacon.index(\"cat\")"
   ]
  },
  {
   "cell_type": "markdown",
   "id": "49a47396",
   "metadata": {},
   "source": [
    "#Answer7"
   ]
  },
  {
   "cell_type": "code",
   "execution_count": 9,
   "id": "a523710f",
   "metadata": {},
   "outputs": [
    {
     "data": {
      "text/plain": [
       "[3.14, 'cat', 11, 'cat', True, 99]"
      ]
     },
     "execution_count": 9,
     "metadata": {},
     "output_type": "execute_result"
    }
   ],
   "source": [
    "bacon.append(99)\n",
    "bacon"
   ]
  },
  {
   "cell_type": "markdown",
   "id": "966f07f0",
   "metadata": {},
   "source": [
    "#Answer8"
   ]
  },
  {
   "cell_type": "code",
   "execution_count": 18,
   "id": "46e6d80d",
   "metadata": {},
   "outputs": [
    {
     "data": {
      "text/plain": [
       "[3.14, 11, 'cat', True, 99]"
      ]
     },
     "execution_count": 18,
     "metadata": {},
     "output_type": "execute_result"
    }
   ],
   "source": [
    "bacon.remove(\"cat\")\n",
    "bacon"
   ]
  },
  {
   "cell_type": "markdown",
   "id": "82458115",
   "metadata": {},
   "source": [
    "#Answer9"
   ]
  },
  {
   "cell_type": "code",
   "execution_count": null,
   "id": "c8302d85",
   "metadata": {},
   "outputs": [],
   "source": [
    "List concatenation operaor: +\n",
    "List replication operaor: *"
   ]
  },
  {
   "cell_type": "markdown",
   "id": "7236eff0",
   "metadata": {},
   "source": [
    "#Answer10"
   ]
  },
  {
   "cell_type": "code",
   "execution_count": null,
   "id": "9e71b399",
   "metadata": {},
   "outputs": [],
   "source": [
    "In a list append() add value to the end of the list, while insert() add a value anywhere in the list"
   ]
  },
  {
   "cell_type": "markdown",
   "id": "a9a1f419",
   "metadata": {},
   "source": [
    "#Answer11"
   ]
  },
  {
   "cell_type": "code",
   "execution_count": null,
   "id": "c2ae8bdb",
   "metadata": {},
   "outputs": [],
   "source": [
    "l.pop() and remove()"
   ]
  },
  {
   "cell_type": "markdown",
   "id": "336262a1",
   "metadata": {},
   "source": [
    "#Answer12"
   ]
  },
  {
   "cell_type": "code",
   "execution_count": null,
   "id": "289cfd4e",
   "metadata": {},
   "outputs": [],
   "source": [
    "Both lists and strings have indexes, length, can be concatinated or replicated, can be used in loops, and can be used\n",
    "with in and not in operators."
   ]
  },
  {
   "cell_type": "markdown",
   "id": "192f0957",
   "metadata": {},
   "source": [
    "#Answer13"
   ]
  },
  {
   "cell_type": "code",
   "execution_count": null,
   "id": "eef04cd2",
   "metadata": {},
   "outputs": [],
   "source": [
    "Lists are mutable while tuples are non mutable.\n",
    "list bracket: []\n",
    "tuple bracket : ()"
   ]
  },
  {
   "cell_type": "markdown",
   "id": "c8df5d41",
   "metadata": {},
   "source": [
    "#Answer14"
   ]
  },
  {
   "cell_type": "code",
   "execution_count": 31,
   "id": "b1b49ed6",
   "metadata": {},
   "outputs": [
    {
     "data": {
      "text/plain": [
       "(42,)"
      ]
     },
     "execution_count": 31,
     "metadata": {},
     "output_type": "execute_result"
    }
   ],
   "source": [
    "t=(42,)\n",
    "t"
   ]
  },
  {
   "cell_type": "markdown",
   "id": "712fb3e4",
   "metadata": {},
   "source": [
    "#Answer15"
   ]
  },
  {
   "cell_type": "code",
   "execution_count": 35,
   "id": "3cb8bcf9",
   "metadata": {},
   "outputs": [
    {
     "name": "stdout",
     "output_type": "stream",
     "text": [
      "(1, 2, 4) [7, 8, 9]\n"
     ]
    }
   ],
   "source": [
    "l=[1,2,4]\n",
    "t=(7,8,9)\n",
    "t1=tuple(l)\n",
    "l1=list(t)\n",
    "print(t1,l1)"
   ]
  },
  {
   "cell_type": "markdown",
   "id": "b4f9c1d2",
   "metadata": {},
   "source": [
    "#Answer16"
   ]
  },
  {
   "cell_type": "code",
   "execution_count": null,
   "id": "5276c144",
   "metadata": {},
   "outputs": [],
   "source": [
    "They contain reference to the list values."
   ]
  },
  {
   "cell_type": "markdown",
   "id": "4abd3c86",
   "metadata": {},
   "source": [
    "#Answer17"
   ]
  },
  {
   "cell_type": "code",
   "execution_count": 21,
   "id": "9ee88eba",
   "metadata": {},
   "outputs": [],
   "source": [
    "copy.copy(): performs shallow copy of a list.\n",
    "copy.deepcopy() : performs deep copy of a list."
   ]
  },
  {
   "cell_type": "code",
   "execution_count": null,
   "id": "bd930790",
   "metadata": {},
   "outputs": [],
   "source": []
  }
 ],
 "metadata": {
  "kernelspec": {
   "display_name": "Python 3 (ipykernel)",
   "language": "python",
   "name": "python3"
  },
  "language_info": {
   "codemirror_mode": {
    "name": "ipython",
    "version": 3
   },
   "file_extension": ".py",
   "mimetype": "text/x-python",
   "name": "python",
   "nbconvert_exporter": "python",
   "pygments_lexer": "ipython3",
   "version": "3.9.7"
  }
 },
 "nbformat": 4,
 "nbformat_minor": 5
}
